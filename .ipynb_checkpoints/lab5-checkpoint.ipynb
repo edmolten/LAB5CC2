{
 "cells": [
  {
   "cell_type": "markdown",
   "metadata": {},
   "source": [
    "<h1 align=\"center\"> Computación Cientifica - Laboratorio 5: Sistemas de Reacción-Difusión </h1>\n",
    "<br>\n",
    "<br>\n",
    "** Autores **:\n",
    "+ Yerson Escobar - 201273084-8 \n",
    "+ Eduardo Ramírez - 201103031-1\n",
    "\n",
    "\n",
    "## Introducción\n",
    "\n",
    "\n",
    "\n",
    "## Desarrollo\n"
   ]
  },
  {
   "cell_type": "code",
   "execution_count": null,
   "metadata": {
    "collapsed": true
   },
   "outputs": [],
   "source": []
  },
  {
   "cell_type": "markdown",
   "metadata": {},
   "source": [
    "### Método de las Líneas"
   ]
  },
  {
   "cell_type": "markdown",
   "metadata": {},
   "source": [
    "Al discretizar queda:\n",
    "$$\n",
    "\\frac{\\partial u_i}{\\partial t}=D_u \\left(\\frac{u_{i-1}+u_{i+1}-2 u_i}{\\text{$\\Delta $x}^2}+\\frac{u_{i-1}+u_{i+1}-2 u_i}{\\text{$\\Delta $y}^2}\\right)+\\text{$\\lambda $u}_i-u_i^3-\\sigma  v_i-\\kappa\n",
    "$$\n",
    "$$\n",
    "\\tau  \\frac{\\partial v_i}{\\partial t}=D_v \\left(\\frac{v_{i-1}+v_{i+1}-2 v_i}{\\text{$\\Delta $x}^2}+\\frac{v_{i-1}+v_{i+1}-2 v_i}{\\text{$\\Delta $y}^2}\\right)+u_i-v_i\n",
    "$$\n",
    "Haciendo un poco de algebra queda\n",
    "$$\n",
    "\\frac{\\partial u_i}{\\partial t}=u_i \\left(\\lambda -2 D_u \\left(\\frac{1}{\\text{$\\Delta $x}^2}+\\frac{1}{\\text{$\\Delta $y}^2}\\right)\\right)+D_u \\left(\\frac{1}{\\text{$\\Delta $x}^2}+\\frac{1}{\\text{$\\Delta $y}^2}\\right) u_{i-1}+D_u \\left(\\frac{1}{\\text{$\\Delta $x}^2}+\\frac{1}{\\text{$\\Delta $y}^2}\\right) u_{i+1}-u_i^3-\\sigma  v_i-\\kappa\n",
    "$$\n",
    "$$\n",
    "\\frac{\\partial v_i}{\\partial t}=\\frac{D_v \\left(\\frac{1}{\\text{$\\Delta $x}^2}+\\frac{1}{\\text{$\\Delta $y}^2}\\right) v_{i-1}}{\\tau }+\\frac{D_v \\left(\\frac{1}{\\text{$\\Delta $x}^2}+\\frac{1}{\\text{$\\Delta $y}^2}\\right) v_{i+1}}{\\tau }+\\frac{v_i \\left(-2 D_v \\left(\\frac{1}{\\text{$\\Delta $x}^2}+\\frac{1}{\\text{$\\Delta $y}^2}\\right)-1\\right)}{\\tau }+\\frac{u_i}{\\tau }\n",
    "$$\n",
    "Definiendo los siguientes términos:\n",
    "$$\n",
    "a=\\frac{1}{\\text{$\\Delta $x}^2}+\\frac{1}{\\text{$\\Delta $y}^2}\n",
    "$$\n",
    "$$\n",
    "\\overset{\\rightharpoonup }{u}_i=\\left(\n",
    "\\begin{array}{c}\n",
    " u_{i-1} \\\\\n",
    " u_i \\\\\n",
    " u_{i+1} \\\\\n",
    "\\end{array}\n",
    "\\right)\n",
    "$$\n",
    "$$\n",
    "\\overset{\\rightharpoonup }{U}=\\left(\n",
    "\\begin{array}{c}\n",
    " a D_u \\\\\n",
    " \\lambda -2 a D_u \\\\\n",
    " a D_u \\\\\n",
    "\\end{array}\n",
    "\\right)\n",
    "$$\n",
    "$$\n",
    "\\overset{\\rightharpoonup }{v}_i=\\left(\n",
    "\\begin{array}{c}\n",
    " v_{i-1} \\\\\n",
    " v_i \\\\\n",
    " v_{i+1} \\\\\n",
    "\\end{array}\n",
    "\\right)\n",
    "$$\n",
    "$$\n",
    "\\overset{\\rightharpoonup }{V}=\\left(\n",
    "\\begin{array}{c}\n",
    " \\frac{a D_v}{\\tau } \\\\\n",
    " \\frac{-2 a D_v-1}{\\tau } \\\\\n",
    " \\frac{a D_v}{\\tau } \\\\\n",
    "\\end{array}\n",
    "\\right)\n",
    "$$\n",
    "El problema se puede expresar como:\n",
    "$$\n",
    "\\left(\n",
    "\\begin{array}{c}\n",
    " \\frac{\\partial u_i}{\\partial t} \\\\\n",
    " \\frac{\\partial v_i}{\\partial t} \\\\\n",
    "\\end{array}\n",
    "\\right)= \\left(\n",
    "\\begin{array}{cc}\n",
    " \\overset{\\rightharpoonup }{U}^T & 0 \\\\\n",
    " 0 & \\overset{\\rightharpoonup }{V}^T \\\\\n",
    "\\end{array}\n",
    "\\right)\n",
    "\\left(\n",
    "\\begin{array}{c}\n",
    " \\overset{\\rightharpoonup }{u}_i \\\\\n",
    " \\overset{\\rightharpoonup }{v}_i \\\\\n",
    "\\end{array}\n",
    "\\right)\n",
    "+\\left(\n",
    "\\begin{array}{c}\n",
    " -u_i^3-\\sigma  v_i-\\kappa  \\\\\n",
    " \\frac{u_i}{\\tau } \\\\\n",
    "\\end{array}\n",
    "\\right)\n",
    "$$"
   ]
  },
  {
   "cell_type": "code",
   "execution_count": null,
   "metadata": {
    "collapsed": true
   },
   "outputs": [],
   "source": []
  }
 ],
 "metadata": {
  "kernelspec": {
   "display_name": "Python 2",
   "language": "python",
   "name": "python2"
  },
  "language_info": {
   "codemirror_mode": {
    "name": "ipython",
    "version": 2
   },
   "file_extension": ".py",
   "mimetype": "text/x-python",
   "name": "python",
   "nbconvert_exporter": "python",
   "pygments_lexer": "ipython2",
   "version": "2.7.10"
  }
 },
 "nbformat": 4,
 "nbformat_minor": 0
}
