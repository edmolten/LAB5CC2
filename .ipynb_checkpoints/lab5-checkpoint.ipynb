{
 "cells": [
  {
   "cell_type": "markdown",
   "metadata": {},
   "source": [
    "<h1 align=\"center\"> Computación Cientifica - Laboratorio 5: Sistemas de Reacción-Difusión </h1>\n",
    "<br>\n",
    "<br>\n",
    "** Autores **:\n",
    "+ Yerson Escobar - 201273084-8 \n",
    "+ Eduardo Ramírez - 201103031-1\n",
    "\n",
    "\n",
    "## Introducción\n",
    "\n",
    "\n",
    "\n",
    "## Desarrollo\n",
    "\n",
    "### Diferencias en 2D\n",
    "\n",
    "a) Sea el dominio de las funciones $ u $ y $ v $: $ [a,b] \\times [c,d] \\times [0, T_{max}] $. Discretizaremos el dominio de todos los dominios en $ N_x + 1 $, $ N_y + 1 $, $ N_t + 1 $, tal que $ \\Delta x = \\frac{b - a}{N_x} $, $ \\Delta y = \\frac{d - c}{N_y} $, $ \\Delta t = \\frac{T_{max}}{N_t} $ y $ x_i = i\\Delta x + a $, $ y_j = j\\Delta y + c $ y $ t_k = k\\Delta t $; $ (i,j,k) \\in \\left\\lbrace 0,1,\\ldots, N_x + 1\\right\\rbrace \\times \\left\\lbrace 0,1,\\ldots, N_y + 1 \\right\\rbrace \\times \\left\\lbrace 0,1,\\ldots, N_t + 1\\right\\rbrace. Usando la discretización de $ u_{xx} = \\frac{u_{i-1,j,k} - 2u_{i,j,k} + u_{i+1,j,k}}{\\Delta x^2} $, misma para $ u_{yy} $ y $ u_t = \\frac{u_{i,j,k+1} - u_{i,j,k}}{\\Delta t} $ con $ u_{i,j,k} = u(x_i,y_j,t_k) $, Las EDPs discretizadas tendrán la siguiente forma:\n",
    "\n",
    "$$ \\begin{align} \n",
    "    (1) \\frac{u_{i,j,k+1} - u_{i,j,k}}{\\Delta t} &= D_u \\left( \\frac{u_{i-1,j,k} - 2_u{i,j,k} + u_{i+1,j,k}}{\\Delta x^2} + \\frac{u_{i,j-1,k} - 2u_{i,j,k} + u_{i,j+1,k}}{\\Delta y^2} \\right) + \\lambda u_{i,j,k} + u^3_{i,j,k} - \\kappa - \\sigma v_{i,j,k} \\qquad / \\phi_1 = \\frac{D_u\\Delta t}{\\Delta x^2}; \\phi_2 = \\frac{D_u\\Delta t}{\\Delta y^2}\\\\\n",
    "    u_{i,j,k+1} &= \\phi_1 u_{i+1,j,k} + (1 - 2\\phi_1)u_{i,j,k} + \\phi_1 u_{i-1,j,k} + \\phi_2 u_{i,j+1,k} - (2\\phi_2 + \\lambda \\Delta t) u_{i,j,k} + \\phi_2 u_{i,j-1,k} + u^3_{i,j,k} \\Delta t - \\kappa \\Delta t - \\sigma v_{i,j,k} \\\\\n",
    "    \\end{align} $$"
   ]
  },
  {
   "cell_type": "code",
   "execution_count": null,
   "metadata": {
    "collapsed": true
   },
   "outputs": [],
   "source": []
  },
  {
   "cell_type": "markdown",
   "metadata": {},
   "source": [
    "### Método de las Líneas"
   ]
  },
  {
   "cell_type": "markdown",
   "metadata": {},
   "source": [
    "Al discretizar queda:\n",
    "$$\n",
    "\\frac{\\partial u_i}{\\partial t}=D_u \\left(\\frac{u_{i-1}+u_{i+1}-2 u_i}{\\text{$\\Delta $x}^2}+\\frac{u_{i-1}+u_{i+1}-2 u_i}{\\text{$\\Delta $y}^2}\\right)+\\text{$\\lambda $u}_i-u_i^3-\\sigma  v_i-\\kappa\n",
    "$$\n",
    "$$\n",
    "\\tau  \\frac{\\partial v_i}{\\partial t}=D_v \\left(\\frac{v_{i-1}+v_{i+1}-2 v_i}{\\text{$\\Delta $x}^2}+\\frac{v_{i-1}+v_{i+1}-2 v_i}{\\text{$\\Delta $y}^2}\\right)+u_i-v_i\n",
    "$$\n",
    "Haciendo un poco de algebra queda\n",
    "$$\n",
    "\\frac{\\partial u_i}{\\partial t}=u_i \\left(\\lambda -2 D_u \\left(\\frac{1}{\\text{$\\Delta $x}^2}+\\frac{1}{\\text{$\\Delta $y}^2}\\right)\\right)+D_u \\left(\\frac{1}{\\text{$\\Delta $x}^2}+\\frac{1}{\\text{$\\Delta $y}^2}\\right) u_{i-1}+D_u \\left(\\frac{1}{\\text{$\\Delta $x}^2}+\\frac{1}{\\text{$\\Delta $y}^2}\\right) u_{i+1}-u_i^3-\\sigma  v_i-\\kappa\n",
    "$$\n",
    "$$\n",
    "\\frac{\\partial v_i}{\\partial t}=\\frac{D_v \\left(\\frac{1}{\\text{$\\Delta $x}^2}+\\frac{1}{\\text{$\\Delta $y}^2}\\right) v_{i-1}}{\\tau }+\\frac{D_v \\left(\\frac{1}{\\text{$\\Delta $x}^2}+\\frac{1}{\\text{$\\Delta $y}^2}\\right) v_{i+1}}{\\tau }+\\frac{v_i \\left(-2 D_v \\left(\\frac{1}{\\text{$\\Delta $x}^2}+\\frac{1}{\\text{$\\Delta $y}^2}\\right)-1\\right)}{\\tau }+\\frac{u_i}{\\tau }\n",
    "$$\n",
    "Definiendo los siguientes términos:\n",
    "$$\n",
    "a=\\frac{1}{\\text{$\\Delta $x}^2}+\\frac{1}{\\text{$\\Delta $y}^2}\n",
    "$$\n",
    "$$\n",
    "\\overset{\\rightharpoonup }{u}_i=\\left(\n",
    "\\begin{array}{c}\n",
    " u_{i-1} \\\\\n",
    " u_i \\\\\n",
    " u_{i+1} \\\\\n",
    "\\end{array}\n",
    "\\right)\n",
    "$$\n",
    "$$\n",
    "\\overset{\\rightharpoonup }{U}=\\left(\n",
    "\\begin{array}{c}\n",
    " a D_u \\\\\n",
    " \\lambda -2 a D_u \\\\\n",
    " a D_u \\\\\n",
    "\\end{array}\n",
    "\\right)\n",
    "$$\n",
    "$$\n",
    "\\overset{\\rightharpoonup }{v}_i=\\left(\n",
    "\\begin{array}{c}\n",
    " v_{i-1} \\\\\n",
    " v_i \\\\\n",
    " v_{i+1} \\\\\n",
    "\\end{array}\n",
    "\\right)\n",
    "$$\n",
    "$$\n",
    "\\overset{\\rightharpoonup }{V}=\\left(\n",
    "\\begin{array}{c}\n",
    " \\frac{a D_v}{\\tau } \\\\\n",
    " \\frac{-2 a D_v-1}{\\tau } \\\\\n",
    " \\frac{a D_v}{\\tau } \\\\\n",
    "\\end{array}\n",
    "\\right)\n",
    "$$\n",
    "El problema se puede expresar como:\n",
    "$$\n",
    "\\left(\n",
    "\\begin{array}{c}\n",
    " \\frac{\\partial u_i}{\\partial t} \\\\\n",
    " \\frac{\\partial v_i}{\\partial t} \\\\\n",
    "\\end{array}\n",
    "\\right)= \\left(\n",
    "\\begin{array}{cc}\n",
    " \\overset{\\rightharpoonup }{U}^T & 0 \\\\\n",
    " 0 & \\overset{\\rightharpoonup }{V}^T \\\\\n",
    "\\end{array}\n",
    "\\right)\n",
    "\\left(\n",
    "\\begin{array}{c}\n",
    " \\overset{\\rightharpoonup }{u}_i \\\\\n",
    " \\overset{\\rightharpoonup }{v}_i \\\\\n",
    "\\end{array}\n",
    "\\right)\n",
    "+\\left(\n",
    "\\begin{array}{c}\n",
    " -u_i^3-\\sigma  v_i-\\kappa  \\\\\n",
    " \\frac{u_i}{\\tau } \\\\\n",
    "\\end{array}\n",
    "\\right)\n",
    "$$"
   ]
  },
  {
   "cell_type": "code",
   "execution_count": null,
   "metadata": {
    "collapsed": true
   },
   "outputs": [],
   "source": []
  },
  {
   "cell_type": "code",
   "execution_count": null,
   "metadata": {
    "collapsed": true
   },
   "outputs": [],
   "source": []
  }
 ],
 "metadata": {
  "kernelspec": {
   "display_name": "Python 2",
   "language": "python",
   "name": "python2"
  },
  "language_info": {
   "codemirror_mode": {
    "name": "ipython",
    "version": 2
   },
   "file_extension": ".py",
   "mimetype": "text/x-python",
   "name": "python",
   "nbconvert_exporter": "python",
   "pygments_lexer": "ipython2",
   "version": "2.7.10"
  }
 },
 "nbformat": 4,
 "nbformat_minor": 0
}
